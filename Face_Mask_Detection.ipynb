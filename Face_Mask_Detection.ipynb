{
  "nbformat": 4,
  "nbformat_minor": 0,
  "metadata": {
    "colab": {
      "name": "Face_Mask_Detection.ipynb",
      "provenance": [],
      "collapsed_sections": [],
      "authorship_tag": "ABX9TyOtreXx5gwbIvhoyy7rVi6j",
      "include_colab_link": true
    },
    "kernelspec": {
      "name": "python3",
      "display_name": "Python 3"
    },
    "language_info": {
      "name": "python"
    }
  },
  "cells": [
    {
      "cell_type": "markdown",
      "metadata": {
        "id": "view-in-github",
        "colab_type": "text"
      },
      "source": [
        "<a href=\"https://colab.research.google.com/github/SubhRautray06/code_2/blob/main/Face_Mask_Detection.ipynb\" target=\"_parent\"><img src=\"https://colab.research.google.com/assets/colab-badge.svg\" alt=\"Open In Colab\"/></a>"
      ]
    },
    {
      "cell_type": "code",
      "source": [
        "from google.colab import drive\n",
        "drive.mount('/content/drive')"
      ],
      "metadata": {
        "colab": {
          "base_uri": "https://localhost:8080/"
        },
        "id": "baKoP5NAnep2",
        "outputId": "b77b8df9-a88f-4afd-800f-9e14c3b5af73"
      },
      "execution_count": null,
      "outputs": [
        {
          "output_type": "stream",
          "name": "stdout",
          "text": [
            "Mounted at /content/drive\n"
          ]
        }
      ]
    },
    {
      "cell_type": "code",
      "execution_count": null,
      "metadata": {
        "id": "OMTcKamcnLcy"
      },
      "outputs": [],
      "source": [
        "import os\n",
        "import pandas as pd\n",
        "from keras_preprocessing.image import ImageDataGenerator\n",
        "from sklearn.model_selection import StratifiedShuffleSplit\n",
        "from keras.models import Sequential\n",
        "from keras.layers import Conv2D, Input, ZeroPadding2D, BatchNormalization, Activation, MaxPooling2D, Flatten, Dense, \\\n",
        "    Dropout\n",
        "\n",
        "image_directory = \"/content/drive/MyDrive/facemask_dataset/\"\n",
        "newimages = []\n",
        "datapath = []\n"
      ]
    },
    {
      "cell_type": "code",
      "source": [
        "for folder in os.listdir(image_directory):\n",
        "    for d in os.listdir(image_directory + folder):\n",
        "        # print(image_directory+folder+'/'+d)\n",
        "        # image_path = os.path.join(image_directory+folder, d)\n",
        "        image_path = image_directory + folder + '/' + d\n",
        "        datapath.append([folder, image_path])\n",
        "\n",
        "df = pd.DataFrame(datapath, columns=[\"label\", \"path\"])\n",
        "\n",
        "class_names = df.label.unique()\n",
        "number_images = df.loc[:, \"label\"].value_counts"
      ],
      "metadata": {
        "id": "4exspsIxoMzu"
      },
      "execution_count": null,
      "outputs": []
    },
    {
      "cell_type": "code",
      "source": [
        "##Getting the train, test, validation set\n",
        "split_data = StratifiedShuffleSplit(n_splits=5, test_size=0.3, random_state=1)\n",
        "for tr_index, val_index in split_data.split(df, df.loc[:, 'label']):\n",
        "    train_df = df.loc[tr_index]\n",
        "    valid_df_set = df.loc[val_index]\n",
        "split_data_valid = StratifiedShuffleSplit(n_splits=5, test_size=0.1, random_state=1)\n",
        "for valid_index, test_index in split_data_valid.split(valid_df_set, valid_df_set.loc[:, 'label']):\n",
        "    val_df = df.loc[valid_index]\n",
        "    test_df = df.loc[test_index]\n",
        "\n",
        "\n",
        "print('Train data : ',train_df)\n",
        "print('Validation data : ',val_df)\n",
        "print('Test data : ',test_df)"
      ],
      "metadata": {
        "colab": {
          "base_uri": "https://localhost:8080/"
        },
        "id": "86XBfnrToVX6",
        "outputId": "ba31e8a0-7eb1-44e2-d842-5e25052a33d7"
      },
      "execution_count": null,
      "outputs": [
        {
          "output_type": "stream",
          "name": "stdout",
          "text": [
            "Train data :               label                                               path\n",
            "6071  without_mask  /content/drive/MyDrive/facemask_dataset/withou...\n",
            "3952  without_mask  /content/drive/MyDrive/facemask_dataset/withou...\n",
            "4610  without_mask  /content/drive/MyDrive/facemask_dataset/withou...\n",
            "4877  without_mask  /content/drive/MyDrive/facemask_dataset/withou...\n",
            "5252  without_mask  /content/drive/MyDrive/facemask_dataset/withou...\n",
            "...            ...                                                ...\n",
            "167      with_mask  /content/drive/MyDrive/facemask_dataset/with_m...\n",
            "1491     with_mask  /content/drive/MyDrive/facemask_dataset/with_m...\n",
            "4562  without_mask  /content/drive/MyDrive/facemask_dataset/withou...\n",
            "6147  without_mask  /content/drive/MyDrive/facemask_dataset/withou...\n",
            "1604     with_mask  /content/drive/MyDrive/facemask_dataset/with_m...\n",
            "\n",
            "[5287 rows x 2 columns]\n",
            "Validation data :            label                                               path\n",
            "2221  with_mask  /content/drive/MyDrive/facemask_dataset/with_m...\n",
            "842   with_mask  /content/drive/MyDrive/facemask_dataset/with_m...\n",
            "1492  with_mask  /content/drive/MyDrive/facemask_dataset/with_m...\n",
            "1826  with_mask  /content/drive/MyDrive/facemask_dataset/with_m...\n",
            "1852  with_mask  /content/drive/MyDrive/facemask_dataset/with_m...\n",
            "...         ...                                                ...\n",
            "1285  with_mask  /content/drive/MyDrive/facemask_dataset/with_m...\n",
            "1351  with_mask  /content/drive/MyDrive/facemask_dataset/with_m...\n",
            "2051  with_mask  /content/drive/MyDrive/facemask_dataset/with_m...\n",
            "1322  with_mask  /content/drive/MyDrive/facemask_dataset/with_m...\n",
            "873   with_mask  /content/drive/MyDrive/facemask_dataset/with_m...\n",
            "\n",
            "[2039 rows x 2 columns]\n",
            "Test data :            label                                               path\n",
            "219   with_mask  /content/drive/MyDrive/facemask_dataset/with_m...\n",
            "1928  with_mask  /content/drive/MyDrive/facemask_dataset/with_m...\n",
            "1405  with_mask  /content/drive/MyDrive/facemask_dataset/with_m...\n",
            "624   with_mask  /content/drive/MyDrive/facemask_dataset/with_m...\n",
            "994   with_mask  /content/drive/MyDrive/facemask_dataset/with_m...\n",
            "...         ...                                                ...\n",
            "1308  with_mask  /content/drive/MyDrive/facemask_dataset/with_m...\n",
            "733   with_mask  /content/drive/MyDrive/facemask_dataset/with_m...\n",
            "858   with_mask  /content/drive/MyDrive/facemask_dataset/with_m...\n",
            "625   with_mask  /content/drive/MyDrive/facemask_dataset/with_m...\n",
            "870   with_mask  /content/drive/MyDrive/facemask_dataset/with_m...\n",
            "\n",
            "[227 rows x 2 columns]\n"
          ]
        }
      ]
    },
    {
      "cell_type": "code",
      "source": [
        "train_datagen = ImageDataGenerator(rescale=1.0 / 255,\n",
        "                                   rotation_range=40,\n",
        "                                   width_shift_range=0.2,\n",
        "                                   height_shift_range=0.2,\n",
        "                                   shear_range=0.2,\n",
        "                                   zoom_range=0.2,\n",
        "                                   horizontal_flip=True,\n",
        "                                   fill_mode='nearest')\n",
        "\n",
        "validation_datagen = ImageDataGenerator(rescale=1.0 / 255)\n",
        "\n",
        "train_generator = train_datagen.flow_from_dataframe(train_df, batch_size=10,y_col='label',\n",
        "                                                   x_col='path', target_size=(150, 150))\n",
        "validation_generator = validation_datagen.flow_from_dataframe(val_df, batch_size=10, y_col='label',\n",
        "                                                   x_col='path',target_size=(150, 150))\n",
        "\n",
        "\n",
        "\n",
        "\n",
        "\n",
        "model = Sequential([Conv2D(100,(3,3), activation='relu', input_shape = (150,150,3)),\n",
        "                    MaxPooling2D(2,2),\n",
        "                    Conv2D(100,(3,3), activation= 'relu'),\n",
        "                    MaxPooling2D(2,2),\n",
        "                    Flatten(),\n",
        "                    Dropout(0.5),\n",
        "                    Dense(50, activation = 'relu'),\n",
        "                    Dense(2,activation='softmax')\n",
        "                    ])\n",
        "model.compile(optimizer='adam',loss='binary_crossentropy', metrics=['acc'])\n",
        "history =  model.fit_generator(train_generator,epochs=10,validation_data=validation_generator)\n",
        "\n"
      ],
      "metadata": {
        "colab": {
          "base_uri": "https://localhost:8080/"
        },
        "id": "6fDLr20_ocQ4",
        "outputId": "7564b392-a8bb-4249-9d62-891dcd4c981d"
      },
      "execution_count": null,
      "outputs": [
        {
          "output_type": "stream",
          "name": "stdout",
          "text": [
            "Found 5287 validated image filenames belonging to 2 classes.\n",
            "Found 2039 validated image filenames belonging to 1 classes.\n"
          ]
        },
        {
          "output_type": "stream",
          "name": "stderr",
          "text": [
            "/usr/local/lib/python3.7/dist-packages/ipykernel_launcher.py:31: UserWarning: `Model.fit_generator` is deprecated and will be removed in a future version. Please use `Model.fit`, which supports generators.\n"
          ]
        },
        {
          "output_type": "stream",
          "name": "stdout",
          "text": [
            "Epoch 1/10\n",
            "154/529 [=======>......................] - ETA: 17:29 - loss: 0.5715 - acc: 0.7118"
          ]
        },
        {
          "output_type": "stream",
          "name": "stderr",
          "text": [
            "/usr/local/lib/python3.7/dist-packages/PIL/Image.py:960: UserWarning: Palette images with Transparency expressed in bytes should be converted to RGBA images\n",
            "  \"Palette images with Transparency expressed in bytes should be \"\n"
          ]
        },
        {
          "output_type": "stream",
          "name": "stdout",
          "text": [
            "529/529 [==============================] - 1680s 3s/step - loss: 0.4921 - acc: 0.7734 - val_loss: 1.4825 - val_acc: 0.9093\n",
            "Epoch 2/10\n",
            "529/529 [==============================] - 656s 1s/step - loss: 0.4254 - acc: 0.8124 - val_loss: 1.5577 - val_acc: 0.9608\n",
            "Epoch 3/10\n",
            "529/529 [==============================] - 656s 1s/step - loss: 0.3994 - acc: 0.8241 - val_loss: 0.9726 - val_acc: 0.8955\n",
            "Epoch 4/10\n",
            "529/529 [==============================] - 682s 1s/step - loss: 0.3713 - acc: 0.8436 - val_loss: 1.4386 - val_acc: 0.9117\n",
            "Epoch 5/10\n",
            "529/529 [==============================] - 671s 1s/step - loss: 0.3557 - acc: 0.8527 - val_loss: 1.7109 - val_acc: 0.9431\n",
            "Epoch 6/10\n",
            "529/529 [==============================] - 658s 1s/step - loss: 0.3419 - acc: 0.8540 - val_loss: 1.7885 - val_acc: 0.8995\n",
            "Epoch 7/10\n",
            "529/529 [==============================] - 652s 1s/step - loss: 0.3388 - acc: 0.8547 - val_loss: 1.7665 - val_acc: 0.9367\n",
            "Epoch 8/10\n",
            "529/529 [==============================] - 655s 1s/step - loss: 0.3213 - acc: 0.8604 - val_loss: 1.3063 - val_acc: 0.8686\n",
            "Epoch 9/10\n",
            "529/529 [==============================] - 660s 1s/step - loss: 0.3204 - acc: 0.8661 - val_loss: 2.0515 - val_acc: 0.9264\n",
            "Epoch 10/10\n",
            "529/529 [==============================] - 653s 1s/step - loss: 0.3020 - acc: 0.8759 - val_loss: 2.0756 - val_acc: 0.9210\n"
          ]
        }
      ]
    },
    {
      "cell_type": "code",
      "source": [
        "from tensorflow import keras\n",
        "#model = keras.models.load_model('/content/drive/MyDrive/model_facemask.h5')\n",
        "model.save('/content/drive/MyDrive/model_facemask.h5')"
      ],
      "metadata": {
        "id": "JRuEY4z7o0zu"
      },
      "execution_count": null,
      "outputs": []
    },
    {
      "cell_type": "code",
      "source": [
        "import matplotlib.pyplot as plt\n",
        "# summarize history for accuracy\n",
        "plt.plot(history.history['acc'])\n",
        "plt.plot(history.history['val_acc'])\n",
        "plt.title('model accuracy')\n",
        "plt.ylabel('accuracy')\n",
        "plt.xlabel('epoch')\n",
        "plt.legend(['train', 'test'], loc='upper left')\n",
        "plt.show()\n",
        "# summarize history for loss\n",
        "plt.plot(history.history['loss'])\n",
        "plt.plot(history.history['val_loss'])\n",
        "plt.title('model loss')\n",
        "plt.ylabel('loss')\n",
        "plt.xlabel('epoch')\n",
        "plt.legend(['train', 'test'], loc='upper left')\n",
        "plt.show()"
      ],
      "metadata": {
        "colab": {
          "base_uri": "https://localhost:8080/",
          "height": 573
        },
        "id": "N3KDDeIyOTpP",
        "outputId": "a58e7ad5-5f96-4211-b14b-3fe2b416cb53"
      },
      "execution_count": null,
      "outputs": [
        {
          "output_type": "display_data",
          "data": {
            "text/plain": [
              "<Figure size 432x288 with 1 Axes>"
            ],
            "image/png": "[encoded data removed]"
          },
          "metadata": {
            "needs_background": "light"
          }
        },
        {
          "output_type": "display_data",
          "data": {
            "text/plain": [
              "<Figure size 432x288 with 1 Axes>"
            ],
            "image/png": "[encoded data removed]"
          },
          "metadata": {
            "needs_background": "light"
          }
        }
      ]
    }
  ]
}